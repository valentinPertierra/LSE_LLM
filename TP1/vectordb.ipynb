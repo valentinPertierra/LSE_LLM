{
 "cells": [
  {
   "cell_type": "markdown",
   "id": "cd9210a8-8499-4c70-a6c5-dd7c12abc981",
   "metadata": {},
   "source": [
    "## Carga de datos en base de datos vectorial\n",
    "\n",
    "Se utilizara la base de datos vectorial de Pinecone"
   ]
  },
  {
   "cell_type": "markdown",
   "id": "338e9e57-5a02-44b8-af19-f292dc4f24a1",
   "metadata": {},
   "source": [
    "### Procesamiento de documentos"
   ]
  },
  {
   "cell_type": "code",
   "execution_count": 1,
   "id": "c13a0681-dc03-4ebb-bc72-d84cf91921be",
   "metadata": {},
   "outputs": [],
   "source": [
    "from langchain_community.document_loaders import PyPDFLoader\n",
    "from langchain_text_splitters import RecursiveCharacterTextSplitter"
   ]
  },
  {
   "cell_type": "code",
   "execution_count": 2,
   "id": "9977a46b-3256-4318-b4cc-2287c87d75c9",
   "metadata": {},
   "outputs": [],
   "source": [
    "# Genero los chunks\n",
    "def chunkData(docs, chunk_size=100, chunk_overlap=50):\n",
    "    text_splitter = RecursiveCharacterTextSplitter(chunk_size=chunk_size, chunk_overlap=chunk_overlap)\n",
    "    chunks = text_splitter.split_documents(docs)\n",
    "    return chunks"
   ]
  },
  {
   "cell_type": "code",
   "execution_count": 32,
   "id": "dcf8604e-c511-476a-ad45-3bd77dd4cd6b",
   "metadata": {},
   "outputs": [],
   "source": [
    "# Cargo el documento \n",
    "filePath = \"cv_valentin_pertierra.pdf\"\n",
    "\n",
    "loader = PyPDFLoader(filePath)\n",
    "docs = loader.load()\n",
    "\n",
    "# Genero los chunks \n",
    "chunks = chunkData(docs, chunk_size=500, chunk_overlap=100)"
   ]
  },
  {
   "cell_type": "code",
   "execution_count": 33,
   "id": "8c9135e3-5d7b-4a99-a2eb-a43066f351ab",
   "metadata": {},
   "outputs": [
    {
     "name": "stdout",
     "output_type": "stream",
     "text": [
      "Chunk 0:\n",
      "page_content='PERFIL    _________________________________________  \n",
      " \n",
      "Ingeniero en electrónica con experiencia en el desarrollo de \n",
      "aplicaciones para la industria 4.0. Considero que tengo constancia y \n",
      "firmeza para alcanzar los objetivos que me propongo, ideando \n",
      "soluciones a las dificultades que puedan surgir. Me gusta afrontar \n",
      "nuevos desafíos, buscando siempre aprender y mejorar, tanto en lo \n",
      "humano, como en lo académico y profesional.  \n",
      " \n",
      " \n",
      " \n",
      " \n",
      " \n",
      "EXPERENCIA LABORAL \n",
      " \n",
      "Analista de Transformación Digital' metadata={'source': 'cv_valentin_pertierra.pdf', 'page': 0} \n",
      "\n",
      "Chunk 1:\n",
      "page_content='EXPERENCIA LABORAL \n",
      " \n",
      "Analista de Transformación Digital \n",
      "Julio 2020 – Actualidad \n",
      " \n",
      " \n",
      " \n",
      " \n",
      " \n",
      "Becario \n",
      "Mayo 2018 – Diciembre 2018 \n",
      " \n",
      " \n",
      "Pasante \n",
      "Abril 2012 – Diciembre 2012 \n",
      " \n",
      "FORMACIÓN ACADÉMICA \n",
      " \n",
      "Idioma Chino Mandarín \n",
      "Septiembre 2019 – Enero 2020 \n",
      " \n",
      "Ingeniería Electrónica \n",
      "Marzo 2013 – Abril 2019 \n",
      " \n",
      "Idioma Chino Mandarín \n",
      " Abril 2016 – Agosto 2019 \n",
      " \n",
      "Técnico en Electrónica \n",
      "Marzo 2007 – Diciembre 2012 \n",
      " \n",
      "IDIOMAS \n",
      " \n",
      "Inglés \n",
      "Intermedio \n",
      " \n",
      "Chino Mandarín \n",
      "Básico' metadata={'source': 'cv_valentin_pertierra.pdf', 'page': 0} \n",
      "\n",
      "Chunk 2:\n",
      "page_content='Marzo 2007 – Diciembre 2012 \n",
      " \n",
      "IDIOMAS \n",
      " \n",
      "Inglés \n",
      "Intermedio \n",
      " \n",
      "Chino Mandarín \n",
      "Básico \n",
      " \n",
      "HABILIDADES/COMPETENCIAS \n",
      "______________________________________________________ \n",
      " \n",
      "CIMET OPTEL S.A. \n",
      "Desarrollo del sistema de planificación de planta y requerimientos de materas primas. \n",
      "Mantenimiento, desarrollo y mejoras en el sistema de piso de planta, adquisición de \n",
      "señales de máquinas y sensores varios. \n",
      "Desarrollo de prototipo para la detección de fallas en procesos de extrusión mediante' metadata={'source': 'cv_valentin_pertierra.pdf', 'page': 0} \n",
      "\n"
     ]
    }
   ],
   "source": [
    "# Muestro algunos chunks \n",
    "for i, chunk in enumerate(chunks):\n",
    "    if i<3:\n",
    "        print(f'Chunk {i}:')\n",
    "        print(chunk, '\\n')"
   ]
  },
  {
   "cell_type": "markdown",
   "id": "4ce2bd31-5b04-4bdc-8a07-4af02f086e1a",
   "metadata": {},
   "source": [
    "### Generación de embbeding y carga en base de datos vectorial"
   ]
  },
  {
   "cell_type": "code",
   "execution_count": 7,
   "id": "dc532d10-6cd5-46e1-956b-a77287855eea",
   "metadata": {},
   "outputs": [],
   "source": [
    "import os\n",
    "import time\n",
    "from pinecone import Pinecone, ServerlessSpec\n",
    "from langchain_pinecone import PineconeVectorStore\n",
    "from langchain.embeddings import HuggingFaceEmbeddings\n",
    "\n",
    "from dotenv import load_dotenv"
   ]
  },
  {
   "cell_type": "code",
   "execution_count": 13,
   "id": "e6dd8573-5ecf-460b-9ca8-cbb17381256c",
   "metadata": {},
   "outputs": [],
   "source": [
    "load_dotenv()\n",
    "PINECONE_API_KEY=os.getenv(\"PINECONE_API_KEY\")\n"
   ]
  },
  {
   "cell_type": "code",
   "execution_count": 34,
   "id": "41be9cb0-d296-4dbe-98d1-c8d2cc9f1a60",
   "metadata": {},
   "outputs": [],
   "source": [
    "#Connect to DB Pinecone\n",
    "pc=Pinecone(api_key=PINECONE_API_KEY)\n",
    "\n",
    "cloud = 'aws'\n",
    "region = 'us-east-1'\n",
    "\n",
    "spec = ServerlessSpec(cloud=cloud, region=region)\n",
    "\n",
    "index_name = 'raglse'\n",
    "namespace = \"espacio\"\n",
    "dimension = 384"
   ]
  },
  {
   "cell_type": "code",
   "execution_count": 35,
   "id": "73a8ebbe-ddb5-4c5b-8885-850c370df084",
   "metadata": {},
   "outputs": [
    {
     "data": {
      "text/plain": [
       "['raglse']"
      ]
     },
     "execution_count": 35,
     "metadata": {},
     "output_type": "execute_result"
    }
   ],
   "source": [
    "pc.list_indexes().names()"
   ]
  },
  {
   "cell_type": "code",
   "execution_count": 36,
   "id": "a3bfce94-c977-4120-9af6-f6a4ce60537b",
   "metadata": {},
   "outputs": [
    {
     "name": "stdout",
     "output_type": "stream",
     "text": [
      "index raglse borrado\n",
      "index creado con el nombre: raglse\n"
     ]
    }
   ],
   "source": [
    "# Elimino el indice si es que ya existe en la base de datos\n",
    "if index_name in pc.list_indexes().names():\n",
    "  pc.delete_index(index_name)\n",
    "  print(\"index {} borrado\".format(index_name))\n",
    "\n",
    "if index_name not in pc.list_indexes().names():\n",
    "    # Como lo borre en el paso anterior siempre deberia entrar aca\n",
    "    print(\"index creado con el nombre: {}\".format(index_name))\n",
    "    pc.create_index(\n",
    "        index_name,\n",
    "        dimension=dimension, \n",
    "        metric='cosine',\n",
    "        spec=spec\n",
    "        )\n",
    "else:\n",
    "    print(\"el index con el nombre {} ya estaba creado\".format(index_name))\n",
    "    "
   ]
  },
  {
   "cell_type": "code",
   "execution_count": 37,
   "id": "f3075029-aa98-4b1b-8c75-df90ab08c004",
   "metadata": {},
   "outputs": [],
   "source": [
    "# Cargo un modelo de embeddings compatible\n",
    "embedding_model = HuggingFaceEmbeddings(model_name=\"sentence-transformers/all-MiniLM-L6-v2\")"
   ]
  },
  {
   "cell_type": "code",
   "execution_count": 38,
   "id": "0e2ec3d1-f0ff-4178-bd68-090202ae7c7c",
   "metadata": {},
   "outputs": [
    {
     "name": "stdout",
     "output_type": "stream",
     "text": [
      "upserted values to raglse index\n"
     ]
    }
   ],
   "source": [
    "# Cargo chunks en base de datos\n",
    "docsearch = PineconeVectorStore.from_documents(\n",
    "    documents=chunks,\n",
    "    index_name=index_name,\n",
    "    embedding=embedding_model, \n",
    "    namespace=namespace\n",
    ")\n",
    "print(\"upserted values to {} index\".format(index_name))\n",
    "\n",
    "time.sleep(1)"
   ]
  },
  {
   "cell_type": "markdown",
   "id": "0fe953b8-c08a-4a6d-b2ac-edb1a8bc96db",
   "metadata": {},
   "source": [
    "### Busuquedas en base de datos\n",
    "\n",
    "Realizo pruebas para verificar que los datos se guardaron correctamente"
   ]
  },
  {
   "cell_type": "code",
   "execution_count": 39,
   "id": "c0c878cd-d998-49e0-8d60-b1d02b900806",
   "metadata": {},
   "outputs": [
    {
     "data": {
      "text/plain": [
       "{'dimension': 384,\n",
       " 'index_fullness': 0.0,\n",
       " 'namespaces': {},\n",
       " 'total_vector_count': 0}"
      ]
     },
     "execution_count": 39,
     "metadata": {},
     "output_type": "execute_result"
    }
   ],
   "source": [
    "index = pc.Index(index_name)\n",
    "time.sleep(1)\n",
    "# view index stats\n",
    "index.describe_index_stats()"
   ]
  },
  {
   "cell_type": "code",
   "execution_count": 40,
   "id": "64e78205-8240-4610-a6a9-1125930d79c4",
   "metadata": {},
   "outputs": [],
   "source": [
    "vectorstore = PineconeVectorStore(\n",
    "    index_name=index_name,\n",
    "    embedding=embedding_model,\n",
    "    namespace=namespace,\n",
    ")\n",
    "retriever=vectorstore.as_retriever()"
   ]
  },
  {
   "cell_type": "code",
   "execution_count": 42,
   "id": "8426fd24-c1b0-42bf-b4de-f4a6a5e914fe",
   "metadata": {},
   "outputs": [
    {
     "data": {
      "text/plain": [
       "[Document(id='396888ff-6fca-4a8b-9910-e2374f9f2cba', metadata={'page': 0.0, 'source': 'cv_valentin_pertierra.pdf'}, page_content='Cursado hasta el nivel 7 \\n \\nE.T.N°28 “República Francesa”  \\nPromedio 9,34 \\n \\n___________________________________________________________ \\n \\nExamen First Certificate in English  \\nNivel B2 (MCER) acreditado por University of Cambridge ESOL Examinations \\n \\nExamen HSK3  \\nNivel B1 (MCER) acreditado por Hanban \\n \\n__________________________________________________________\\n \\n● Desarrollo de soluciones end to end (diseño, \\nprototipado, implementación, puesta en marcha)'),\n",
       " Document(id='1381192f-7f60-4586-8545-42b1462a3924', metadata={'page': 0.0, 'source': 'cv_valentin_pertierra.pdf'}, page_content='Armado y prueba de muestras (equipos de audio, TV y electrodomésticos). Verificación del \\ncumplimiento de las especificaciones técnicas de las muestras. \\n \\n___________________________________________________________ \\n \\nBeijing Language and Culture University 北京语言大学  \\nCurso de idioma 初级汉语-进步篇 (Upper Elementary) \\n \\nUniversidad Tecnológica Nacional FRBA \\nPromedio 8,74 \\n \\nAsociación Cultural Chino Argentina  \\nCursado hasta el nivel 7 \\n \\nE.T.N°28 “República Francesa”  \\nPromedio 9,34'),\n",
       " Document(id='67e9fb17-cad2-4b4e-a547-21552a69109d', metadata={'page': 0.0, 'source': 'cv_valentin_pertierra.pdf'}, page_content='PERFIL    _________________________________________  \\n \\nIngeniero en electrónica con experiencia en el desarrollo de \\naplicaciones para la industria 4.0. Considero que tengo constancia y \\nfirmeza para alcanzar los objetivos que me propongo, ideando \\nsoluciones a las dificultades que puedan surgir. Me gusta afrontar \\nnuevos desafíos, buscando siempre aprender y mejorar, tanto en lo \\nhumano, como en lo académico y profesional.  \\n \\n \\n \\n \\n \\nEXPERENCIA LABORAL \\n \\nAnalista de Transformación Digital')]"
      ]
     },
     "execution_count": 42,
     "metadata": {},
     "output_type": "execute_result"
    }
   ],
   "source": [
    "query = \"Cuales son los estudios que tienen?\"\n",
    "vectorstore.similarity_search(query, k=3)"
   ]
  }
 ],
 "metadata": {
  "kernelspec": {
   "display_name": "Python 3 (ipykernel)",
   "language": "python",
   "name": "python3"
  },
  "language_info": {
   "codemirror_mode": {
    "name": "ipython",
    "version": 3
   },
   "file_extension": ".py",
   "mimetype": "text/x-python",
   "name": "python",
   "nbconvert_exporter": "python",
   "pygments_lexer": "ipython3",
   "version": "3.10.5"
  }
 },
 "nbformat": 4,
 "nbformat_minor": 5
}
